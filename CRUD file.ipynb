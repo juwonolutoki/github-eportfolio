{
 "cells": [
  {
   "cell_type": "markdown",
   "metadata": {},
   "source": [
    "# my first notebook"
   ]
  },
  {
   "cell_type": "code",
   "execution_count": 1,
   "metadata": {},
   "outputs": [
    {
     "name": "stdout",
     "output_type": "stream",
     "text": [
      "Hello world\n"
     ]
    }
   ],
   "source": [
    "print(\"Hello world\")"
   ]
  },
  {
   "cell_type": "code",
   "execution_count": 1,
   "metadata": {},
   "outputs": [
    {
     "ename": "ModuleNotFoundError",
     "evalue": "No module named 'pymongo'",
     "output_type": "error",
     "traceback": [
      "\u001b[31m---------------------------------------------------------------------------\u001b[39m",
      "\u001b[31mModuleNotFoundError\u001b[39m                       Traceback (most recent call last)",
      "\u001b[36mCell\u001b[39m\u001b[36m \u001b[39m\u001b[32mIn[1]\u001b[39m\u001b[32m, line 1\u001b[39m\n\u001b[32m----> \u001b[39m\u001b[32m1\u001b[39m \u001b[38;5;28;01mfrom\u001b[39;00m\u001b[38;5;250m \u001b[39m\u001b[34;01manimalShelter\u001b[39;00m\u001b[38;5;250m \u001b[39m\u001b[38;5;28;01mimport\u001b[39;00m AnimalShelter \n\u001b[32m      3\u001b[39m \u001b[38;5;66;03m# Instantiate the CRUD object from AnimalShelter\u001b[39;00m\n\u001b[32m      4\u001b[39m CRUD = AnimalShelter(\u001b[33m\"\u001b[39m\u001b[33mAACuser\u001b[39m\u001b[33m\"\u001b[39m, \u001b[33m\"\u001b[39m\u001b[33mJuwon\u001b[39m\u001b[33m\"\u001b[39m)\n",
      "\u001b[36mFile \u001b[39m\u001b[32mc:\\Users\\LMA\\github-eportfolio\\animalShelter.py:1\u001b[39m\n\u001b[32m----> \u001b[39m\u001b[32m1\u001b[39m \u001b[38;5;28;01mfrom\u001b[39;00m\u001b[38;5;250m \u001b[39m\u001b[34;01mpymongo\u001b[39;00m\u001b[38;5;250m \u001b[39m\u001b[38;5;28;01mimport\u001b[39;00m MongoClient\n\u001b[32m      2\u001b[39m \u001b[38;5;28;01mfrom\u001b[39;00m\u001b[38;5;250m \u001b[39m\u001b[34;01mbson\u001b[39;00m\u001b[34;01m.\u001b[39;00m\u001b[34;01mobjectid\u001b[39;00m\u001b[38;5;250m \u001b[39m\u001b[38;5;28;01mimport\u001b[39;00m ObjectId\n\u001b[32m      3\u001b[39m \u001b[38;5;28;01mfrom\u001b[39;00m\u001b[38;5;250m \u001b[39m\u001b[34;01mpymongo\u001b[39;00m\u001b[34;01m.\u001b[39;00m\u001b[34;01merrors\u001b[39;00m\u001b[38;5;250m \u001b[39m\u001b[38;5;28;01mimport\u001b[39;00m ConnectionFailure\n",
      "\u001b[31mModuleNotFoundError\u001b[39m: No module named 'pymongo'"
     ]
    }
   ],
   "source": [
    "from animalShelter import AnimalShelter \n",
    "\n",
    "# Instantiate the CRUD object from AnimalShelter\n",
    "CRUD = AnimalShelter(\"AACuser\", \"Juwon\")\n",
    "\n",
    "# Test create method\n",
    "created = CRUD.create({\"animal_type\": \"Dog\"})\n",
    "\n",
    "# Instantiate another object from AnimalShelter\n",
    "animal_shelter = AnimalShelter(\"AACcuser\", \"Juwon\")\n",
    "\n",
    "# Test create method\n",
    "data = {\"name\": \"Tom\", \"species\": \"Cat\", \"age\": \"5\", \"color\": \"Black\"}\n",
    "animal_shelter.create(data)\n",
    "\n",
    "# Test read method\n",
    "data = animal_shelter.read({\"name\": \"Tom\"})\n",
    "for d in data:\n",
    "    print(d)\n",
    "\n",
    "# Test update method\n",
    "update_result = animal_shelter.update({'name': 'Tom'}, {'age': '6'})\n",
    "\n",
    "# Test delete method\n",
    "delete_result = animal_shelter.delete({'name': 'Tom'})\n",
    "\n",
    "# Add search method to search for animals by multiple criteria\n",
    "def search_animals(animal_shelter, search_criteria):\n",
    "    # Call the read method with search criteria\n",
    "    return animal_shelter.read(search_criteria)\n",
    "\n",
    "# Test search method with multiple criteria (species and color)\n",
    "search_criteria = {\"species\": \"Cat\", \"color\": \"Black\"}\n",
    "search_result = search_animals(animal_shelter, search_criteria)\n",
    "\n",
    "# Print search results\n",
    "for animal in search_result:\n",
    "    print(\"Found animal:\", animal)\n"
   ]
  },
  {
   "cell_type": "code",
   "execution_count": null,
   "metadata": {},
   "outputs": [],
   "source": [
    "from animalShelter import AnimalShelter\n",
    "\n",
    "CRUD = AnimalShelter(\"AACuser\",\"Juwon\")\n",
    "\n",
    "created = CRUD.create({\"animal_type\": \"Dog\"})\n",
    "\n",
    "# Instantiate an object from AnimalShelter\n",
    "animal_shelter = AnimalShelter(\"AACcuser\",\"Juwon\")\n",
    "\n",
    "# Test create method\n",
    "data = {\"name\": \"Tom\", \"species\":\"Cat\", \"age\": \"5\"}\n",
    "animal_shelter.create(data)\n",
    "\n",
    "# Test read method\n",
    "data = animal_shelter.read({\"name\": \"Tom\"})\n",
    "for d in data:\n",
    "    print(d)\n",
    "    \n",
    "# Test update method\n",
    "update_result = animal_shelter.update({'name':'Tom'},{'age':'6'})\n",
    "\n",
    "# Test delete method\n",
    "delete_result = animal.delete({'name':'Tom'})\n",
    "\n"
   ]
  }
 ],
 "metadata": {
  "kernelspec": {
   "display_name": "Python 3",
   "language": "python",
   "name": "python3"
  },
  "language_info": {
   "codemirror_mode": {
    "name": "ipython",
    "version": 3
   },
   "file_extension": ".py",
   "mimetype": "text/x-python",
   "name": "python",
   "nbconvert_exporter": "python",
   "pygments_lexer": "ipython3",
   "version": "3.13.2"
  }
 },
 "nbformat": 4,
 "nbformat_minor": 2
}
